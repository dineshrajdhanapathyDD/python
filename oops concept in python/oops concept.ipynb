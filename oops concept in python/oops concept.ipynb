{
 "cells": [
  {
   "cell_type": "code",
   "execution_count": 6,
   "metadata": {},
   "outputs": [
    {
     "name": "stdout",
     "output_type": "stream",
     "text": [
      "name is martin\n",
      "rollno is 30\n",
      "object deleted\n"
     ]
    }
   ],
   "source": [
    "class student:\n",
    "    def __init__(self,name,rollno):#Constructor (Automatically called while creating object)\n",
    "        self.name=name\n",
    "        self.rollno=rollno\n",
    "    def __del__(self):#Destructor\n",
    "        print(\"object deleted\")\n",
    "        \n",
    "s=student(\"martin\",30)#creating object of the class \n",
    "print(\"name is\",s.name)#Accessing class variables using object name and dot operator\n",
    "print(\"rollno is\",s.rollno)#same as above\n",
    "del s #Calling destructor to free memory space"
   ]
  },
  {
   "cell_type": "markdown",
   "metadata": {},
   "source": [
    "# Single Inheritance"
   ]
  },
  {
   "cell_type": "code",
   "execution_count": 15,
   "metadata": {},
   "outputs": [
    {
     "name": "stdout",
     "output_type": "stream",
     "text": [
      "Martin Blake\n",
      "Dinesh raj\n",
      "Dinesh raj 23\n"
     ]
    }
   ],
   "source": [
    "class person:#Base class\n",
    "    def __init__(self,first,last):\n",
    "        self.fname=first\n",
    "        self.lname=last\n",
    "\n",
    "    def name(self):\n",
    "        return(self.fname+\" \"+self.lname)\n",
    "\n",
    "\n",
    "class Employee(person):#derived class\n",
    "    def __init__(self,first,last,staff_num):\n",
    "        person.__init__(self,first,last) #Calling base class constructor\n",
    "        self.staffnumber=staff_num\n",
    "\n",
    "    def getemployee(self):\n",
    "        return(self.name()+\" \"+self.staffnumber)\n",
    "\n",
    "\n",
    "x=person(\"Martin\",\"Blake\") # Calling only the base class\n",
    "y=Employee(\"Dinesh\",\"raj\",\"23\") #Object of derived class which will automatically call base class\n",
    "print(x.name())\n",
    "print(y.name())\n",
    "print(y.getemployee())\n"
   ]
  },
  {
   "cell_type": "markdown",
   "metadata": {},
   "source": [
    "# Multiple Inheritance"
   ]
  },
  {
   "cell_type": "code",
   "execution_count": 12,
   "metadata": {},
   "outputs": [
    {
     "name": "stdout",
     "output_type": "stream",
     "text": [
      "Base 2 Class method\n",
      "Base 1 Class method\n"
     ]
    }
   ],
   "source": [
    "class Base1:\n",
    "    def x(self):\n",
    "        print(\"Base 1 Class method\")\n",
    "\n",
    "\n",
    "class Base2:\n",
    "    def x(self):\n",
    "        print(\"Base 2 Class method\")\n",
    "\n",
    "class Derived(Base1,Base2):\n",
    "    pass\n",
    "\n",
    "y=Derived()#object of derived class\n",
    "Base2.x(y)#Calling Base2 class passing object of Derived class as argument\n",
    "Base1.x(y)#Calling Base1 class passing object of Derived class as argument"
   ]
  },
  {
   "cell_type": "markdown",
   "metadata": {},
   "source": [
    "# Multilevel Inheritance"
   ]
  },
  {
   "cell_type": "code",
   "execution_count": 16,
   "metadata": {},
   "outputs": [
    {
     "name": "stdout",
     "output_type": "stream",
     "text": [
      "Enter Your Name : dd\n",
      "Enter Your Age : 12\n",
      "Enter Marks1 : 54\n",
      "Enter Marks2 : 34\n",
      "Enter Additional Marks : 88\n",
      "Name is :  dd\n",
      "Age is :  12\n",
      "Marks1  is :  54\n",
      "Marks2 is :  34\n",
      "Total Marks is :  176\n"
     ]
    }
   ],
   "source": [
    "class Student:\n",
    "    def stu_info(self,name,age,m1,m2):\n",
    "        self.name=name\n",
    "        self.age=age\n",
    "        self.m1=m1\n",
    "        self.m2=m2\n",
    "\n",
    "class result(Student):\n",
    "    def stu_res(self,add_m):\n",
    "        self.add_m=add_m\n",
    "        self.tot_m=self.m1+self.m2+self.add_m\n",
    "\n",
    "    def display(self):\n",
    "        print(\"Name is : \",self.name)\n",
    "        print(\"Age is : \",self.age)\n",
    "        print(\"Marks1  is : \",self.m1)\n",
    "        print(\"Marks2 is : \",self.m2)\n",
    "        print(\"Total Marks is : \",self.tot_m)\n",
    "\n",
    "r=result()\n",
    "n=input(\"Enter Your Name : \")\n",
    "a=int(input(\"Enter Your Age : \"))\n",
    "m1=int(input(\"Enter Marks1 : \"))\n",
    "m2=int(input(\"Enter Marks2 : \"))\n",
    "am=int(input(\"Enter Additional Marks : \"))\n",
    "r.stu_info(n,a,m1,m2)\n",
    "r.stu_res(am)\n",
    "r.display()"
   ]
  },
  {
   "cell_type": "markdown",
   "metadata": {},
   "source": [
    "# Class Attributes"
   ]
  },
  {
   "cell_type": "code",
   "execution_count": 17,
   "metadata": {},
   "outputs": [
    {
     "name": "stdout",
     "output_type": "stream",
     "text": [
      "Employee.__doc__ :  It is a Common Class for all the Employees\n",
      "Employee.__bases__ :  (<class 'object'>,)\n",
      "Employee.__name__ :  employee\n",
      "Employee.__module__ :  __main__\n",
      "Employee.__dict__ :  {'__module__': '__main__', '__doc__': 'It is a Common Class for all the Employees', 'empcount': 0, '__init__': <function employee.__init__ at 0x00000268314F1318>, 'display': <function employee.display at 0x00000268314F11F8>, '__dict__': <attribute '__dict__' of 'employee' objects>, '__weakref__': <attribute '__weakref__' of 'employee' objects>}\n"
     ]
    }
   ],
   "source": [
    "class employee:\n",
    "    'It is a Common Class for all the Employees'\n",
    "    empcount=0\n",
    "    def __init__(self,name,salary):\n",
    "        self.name=name\n",
    "        self.salary=salary\n",
    "        employee.empcount+=1\n",
    "\n",
    "    def display(self):\n",
    "        print(\"Name : \",self.name)\n",
    "        print(\"Salary : \",self.salary)\n",
    "\n",
    "\n",
    "print(\"Employee.__doc__ : \",employee.__doc__)\n",
    "print(\"Employee.__bases__ : \",employee.__bases__)\n",
    "print(\"Employee.__name__ : \",employee.__name__)\n",
    "print(\"Employee.__module__ : \",employee.__module__)\n",
    "print(\"Employee.__dict__ : \",employee.__dict__)"
   ]
  },
  {
   "cell_type": "code",
   "execution_count": 18,
   "metadata": {},
   "outputs": [
    {
     "name": "stdout",
     "output_type": "stream",
     "text": [
      "Addition is :  30\n",
      "Multiply :  15\n",
      "Subtract is :  6\n",
      "Property :  (10, 20)\n",
      "Property :  (100, 200)\n"
     ]
    }
   ],
   "source": [
    "\n",
    "#Create a class called Numbers, which has a single class attribute called MULTIPLIER, and a constructor which takes the parameters x and y (these should all be numbers).\n",
    "#i. Write a method called add which returns the sum of the attributes x and y.\n",
    "#ii. Write a class method called multiply, which takes a single number parameter a and returns the product of a and MULTIPLIER.\n",
    "#iii. Write a static method called subtract, which takes two number parameters, b and c, and returns b - c.\n",
    "#iv. Write a method called value which returns a tuple containing the values of xand y. Make this method into a property, and write a setter and a deleter for manipulating the values of x and y.\n",
    "\n",
    "class Numbers:\n",
    "    multiplier=3 #class attribute\n",
    "    def __init__(self,x,y): #constructor\n",
    "        self.x=x\n",
    "        self.y=y\n",
    "\n",
    "    def add(self): #Method\n",
    "        return(self.x+self.y)\n",
    "\n",
    "    @classmethod\n",
    "    def multiply(cls,a):\n",
    "        return(cls.multiplier*a)\n",
    "    @staticmethod\n",
    "    def subtract(b,c):\n",
    "        return(b-c)\n",
    "\n",
    "    @property\n",
    "    def value(self):\n",
    "        return(self.x,self.y)\n",
    "\n",
    "    def set_value(self,x,y): #Setter\n",
    "        self.x=x\n",
    "        self.y=y\n",
    "\n",
    "    def del_value(self): #deleter\n",
    "        del self.x\n",
    "        del self.y\n",
    "\n",
    "obj=Numbers(10,20)\n",
    "print(\"Addition is : \",obj.add())\n",
    "print(\"Multiply : \",Numbers.multiply(5))\n",
    "print(\"Subtract is : \",Numbers.subtract(11,5))\n",
    "print(\"Property : \",obj.value)\n",
    "obj.set_value(100,200)\n",
    "print(\"Property : \",obj.value)\n",
    "obj.del_value()\n"
   ]
  },
  {
   "cell_type": "markdown",
   "metadata": {},
   "source": [
    "# Private Variable concept"
   ]
  },
  {
   "cell_type": "code",
   "execution_count": 19,
   "metadata": {},
   "outputs": [
    {
     "name": "stdout",
     "output_type": "stream",
     "text": [
      "20\n",
      "30\n"
     ]
    }
   ],
   "source": [
    "class Test:\n",
    "    def __init__(self,num):\n",
    "        self.__num=num\n",
    "\n",
    "    def getNum(self):\n",
    "        return(self.__num)\n",
    "\n",
    "    def setNum(self,num):\n",
    "        self.__num=num\n",
    "\n",
    "\n",
    "even=Test(20) #Call the constructor\n",
    "print(even.getNum()) #Get the value of num from getter\n",
    "even.setNum(30) #Set new value to num using setter\n",
    "print(even.getNum()) #Get the value of num from getter"
   ]
  },
  {
   "cell_type": "markdown",
   "metadata": {},
   "source": [
    "# Data Encapsulation"
   ]
  },
  {
   "cell_type": "code",
   "execution_count": 20,
   "metadata": {},
   "outputs": [
    {
     "name": "stdout",
     "output_type": "stream",
     "text": [
      "Public Method\n",
      "b =  100\n"
     ]
    }
   ],
   "source": [
    "# Concept of resticting access to methods and variables in a class\n",
    "\n",
    "class Student:\n",
    "    __a = 1    #private variable not accessible outside class\n",
    "    b =100     #public variable accessible outside class\n",
    "    \n",
    "    def __privateMethod(self):\n",
    "        print(\"Private Method\")\n",
    "        \n",
    "    def publicMethod(self):\n",
    "        print(\"Public Method\")\n",
    "        \n",
    "s = Student()\n",
    "#s.privateMethod() #Will give error\n",
    "s.publicMethod()\n",
    "#print(\"a = \",s.__a) #Will give error\n",
    "print(\"b = \",s.b)"
   ]
  },
  {
   "cell_type": "code",
   "execution_count": null,
   "metadata": {},
   "outputs": [],
   "source": []
  }
 ],
 "metadata": {
  "kernelspec": {
   "display_name": "Python 3",
   "language": "python",
   "name": "python3"
  },
  "language_info": {
   "codemirror_mode": {
    "name": "ipython",
    "version": 3
   },
   "file_extension": ".py",
   "mimetype": "text/x-python",
   "name": "python",
   "nbconvert_exporter": "python",
   "pygments_lexer": "ipython3",
   "version": "3.7.6"
  }
 },
 "nbformat": 4,
 "nbformat_minor": 4
}
